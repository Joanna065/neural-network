{
 "cells": [
  {
   "cell_type": "markdown",
   "metadata": {
    "jupyter": {
     "outputs_hidden": true
    }
   },
   "source": [
    "# __Experiments visualization__ #"
   ]
  },
  {
   "cell_type": "code",
   "execution_count": 9,
   "metadata": {},
   "outputs": [],
   "source": [
    "import numpy as np\n",
    "import sys\n",
    "\n",
    "PROJECT_PATH ='/home/joanna/Desktop/SIECI NEURONOWE/Sieci neuronowe/Laboratorium/neural_net'\n",
    "sys.path.insert(0, PROJECT_PATH)\n",
    "\n",
    "from net.losses import categorical_cross_entropy\n",
    "from net.metrics import LabelAccuracy\n",
    "from net.callbacks import *\n",
    "from net.initializers import *\n",
    "from net.layers.activations import *\n",
    "from net.optimizers import *\n",
    "from settings import DATA_PATH\n",
    "from utils import load_data"
   ]
  },
  {
   "cell_type": "markdown",
   "metadata": {},
   "source": [
    "### load data "
   ]
  },
  {
   "cell_type": "code",
   "execution_count": 10,
   "metadata": {},
   "outputs": [],
   "source": [
    "train_data, val_data, test_data = load_data(DATA_PATH)"
   ]
  },
  {
   "cell_type": "markdown",
   "metadata": {},
   "source": [
    "### __default set up__ for model and train process "
   ]
  },
  {
   "cell_type": "code",
   "execution_count": 12,
   "metadata": {},
   "outputs": [],
   "source": [
    "out_dir = 'experiments'\n",
    "\n",
    "model_dictionary = {\n",
    "        'optimizer': SGD(),\n",
    "        'initializer': Xavier(),\n",
    "        'metrics': [LabelAccuracy()],\n",
    "        'loss_fun': categorical_cross_entropy,\n",
    "        'activation': Sigmoid,\n",
    "        'hidden_units': (500,)\n",
    "    }\n",
    "\n",
    "train_dictionary = {\n",
    "        'train_data': train_data,\n",
    "        'val_data': val_data,\n",
    "        'epochs': 10,\n",
    "        'batch_size': 50,\n",
    "        'callbacks': [\n",
    "            ModelDump(output_dir=out_dir),\n",
    "            SaveBestModel(output_dir=out_dir),\n",
    "            LoggerUpdater()\n",
    "        ]\n",
    "    }"
   ]
  },
  {
   "cell_type": "markdown",
   "metadata": {},
   "source": [
    "## __Batch size tuning__"
   ]
  },
  {
   "cell_type": "code",
   "execution_count": null,
   "metadata": {},
   "outputs": [],
   "source": [
    "from experiments.experiments impor"
   ]
  },
  {
   "cell_type": "markdown",
   "metadata": {},
   "source": [
    "## __Initializer tuning__"
   ]
  },
  {
   "cell_type": "code",
   "execution_count": null,
   "metadata": {},
   "outputs": [],
   "source": []
  },
  {
   "cell_type": "markdown",
   "metadata": {},
   "source": [
    "## __Hidden layer size tuning__"
   ]
  },
  {
   "cell_type": "code",
   "execution_count": null,
   "metadata": {},
   "outputs": [],
   "source": []
  },
  {
   "cell_type": "markdown",
   "metadata": {},
   "source": [
    "## __Activation function tuning__"
   ]
  },
  {
   "cell_type": "code",
   "execution_count": null,
   "metadata": {},
   "outputs": [],
   "source": []
  },
  {
   "cell_type": "markdown",
   "metadata": {},
   "source": [
    "## __Optimizer experiment__"
   ]
  },
  {
   "cell_type": "code",
   "execution_count": null,
   "metadata": {},
   "outputs": [],
   "source": []
  },
  {
   "cell_type": "code",
   "execution_count": null,
   "metadata": {},
   "outputs": [],
   "source": []
  }
 ],
 "metadata": {
  "kernelspec": {
   "display_name": "Python 3",
   "language": "python",
   "name": "python3"
  },
  "language_info": {
   "codemirror_mode": {
    "name": "ipython",
    "version": 3
   },
   "file_extension": ".py",
   "mimetype": "text/x-python",
   "name": "python",
   "nbconvert_exporter": "python",
   "pygments_lexer": "ipython3",
   "version": "3.6.9"
  }
 },
 "nbformat": 4,
 "nbformat_minor": 4
}
